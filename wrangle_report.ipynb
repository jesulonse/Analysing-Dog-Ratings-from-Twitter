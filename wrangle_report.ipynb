{
 "cells": [
  {
   "cell_type": "markdown",
   "metadata": {},
   "source": [
    "## Reporting: wrangle_report\n",
    "* Create a **300-600 word written report** called \"wrangle_report.pdf\" or \"wrangle_report.html\" that briefly describes your wrangling efforts. This is to be framed as an internal document."
   ]
  },
  {
   "cell_type": "markdown",
   "metadata": {},
   "source": [
    "### Process of Wrangling the Project Data"
   ]
  },
  {
   "cell_type": "markdown",
   "metadata": {},
   "source": [
    "The following processes were undertaken to wrangle the data:\n",
    "1. Data Gathering\n",
    "2. Data Assessment\n",
    "3. Data Cleaning"
   ]
  },
  {
   "cell_type": "markdown",
   "metadata": {},
   "source": [
    "### Data Gathering\n",
    "The Data was gathered from three different sources:\n",
    "1. An enhanced twitter archive gotten from WeRateDogs provided to Udacity in CSV format.\n",
    "2. Tweet image Dog prediction provided by Udacity in TSV format.\n",
    "3. A tweet-json file derived from Twitter API in txt format"
   ]
  },
  {
   "cell_type": "markdown",
   "metadata": {},
   "source": [
    "#### Data Assessment\n",
    "The datasets are assessed in two ways:\n",
    "1. *Visually*\n",
    "> The datasets was visually checked using microsoft excel (especially the csv file) and in pandas to check it for quality and the tidiness of the data\n",
    "2. *Programmatically*\n",
    "> The dataset was programmatically checked using:\n",
    "\n",
    "    >  .describe() for summary statistics like mean, max, etc\n",
    "\n",
    "    > .info() to echeck for the dataype and non-null quantity of the data\n",
    "\n",
    "    > .isnull().sum() to check for null values\n",
    "\n",
    "    > .duplicated() to ascertain duplicate values\n",
    "\n",
    "    > .sort_values() to rearrange the data in ascending order or descending order as required to view the values that are outliers\n"
   ]
  },
  {
   "cell_type": "markdown",
   "metadata": {},
   "source": [
    "### Data Cleaning\n",
    "\n",
    "The dataset is cleaned against the following quality and tidiness issues:\n",
    "\n",
    "1.  *Quality Issue*:\n",
    "\n",
    "    1. Remove all data  that  have non-null values for the retweeted_status_user_id.\n",
    "\n",
    "    2. Remove all data in which the in_reply_to_user_id is non-null value.\n",
    "\n",
    "    3. Incorrect dog name in enhanced twitter archive.\n",
    "\n",
    "    4. Replace all the None values with null or nan since they are actually no values\n",
    "\n",
    "    5. Delete or drop columns not needed for the analysis.\n",
    "\n",
    "    6. img_num of the twitter prediction data has wrong data type. It should be categorical because it is between 1 and 4 and it reflects most confident prediction.\n",
    "\n",
    "    7. The p1_conf, p2_conf, p3_conf should in percentages to correspond to the percentage confidence of the predictions\n",
    "\n",
    "    8. The p1_conf, p2_conf, p3_conf percentages should be in two decimal places\n",
    "    \n",
    "2. *Tdiness Issue*:\n",
    "    1. Timestamp consist of date and time which should be split into date and time. The date and time generated from the timestamp are in the wrong data type.\n",
    "\n",
    "    2. The twitter API data should be part of the enhanced twitter data."
   ]
  },
  {
   "cell_type": "markdown",
   "metadata": {},
   "source": [
    "### Data Analysis and Visualization"
   ]
  },
  {
   "cell_type": "markdown",
   "metadata": {},
   "source": [
    "> From the twitter archive master dataset, I tried to analyse the relationship between the confidence interval and the image number. \n",
    "\n",
    "> With the use of several visuals doen over three(3) categories of confidence interval(i.e. 95% and above, 20% and above, and 10% and above) I realized, the higher the confidence interval, the more likely the image predicted looked like the first image of the dog."
   ]
  },
  {
   "cell_type": "code",
   "execution_count": null,
   "metadata": {},
   "outputs": [],
   "source": []
  }
 ],
 "metadata": {
  "kernelspec": {
   "display_name": "Python 3",
   "language": "python",
   "name": "python3"
  },
  "language_info": {
   "codemirror_mode": {
    "name": "ipython",
    "version": 3
   },
   "file_extension": ".py",
   "mimetype": "text/x-python",
   "name": "python",
   "nbconvert_exporter": "python",
   "pygments_lexer": "ipython3",
   "version": "3.6.3"
  }
 },
 "nbformat": 4,
 "nbformat_minor": 2
}
